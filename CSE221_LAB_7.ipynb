{
  "nbformat": 4,
  "nbformat_minor": 0,
  "metadata": {
    "colab": {
      "provenance": []
    },
    "kernelspec": {
      "name": "python3",
      "display_name": "Python 3"
    },
    "language_info": {
      "name": "python"
    }
  },
  "cells": [
    {
      "cell_type": "code",
      "execution_count": null,
      "metadata": {
        "id": "FgO_1nzBqyPS",
        "colab": {
          "base_uri": "https://localhost:8080/",
          "height": 280
        },
        "outputId": "8cf28994-ceca-4778-ab0f-c65f21eb919b"
      },
      "outputs": [
        {
          "name": "stdout",
          "output_type": "stream",
          "text": [
            "1 2 3 4\n",
            "1 1 1 1\n",
            "1 1 1 1\n",
            "1 1 1 1\n"
          ]
        },
        {
          "output_type": "error",
          "ename": "TypeError",
          "evalue": "'int' object is not subscriptable",
          "traceback": [
            "\u001b[0;31m---------------------------------------------------------------------------\u001b[0m",
            "\u001b[0;31mTypeError\u001b[0m                                 Traceback (most recent call last)",
            "\u001b[0;32m<ipython-input-6-61dd579ac7b0>\u001b[0m in \u001b[0;36m<cell line: 0>\u001b[0;34m()\u001b[0m\n\u001b[1;32m      5\u001b[0m \u001b[0mw\u001b[0m\u001b[0;34m=\u001b[0m\u001b[0mlist\u001b[0m\u001b[0;34m(\u001b[0m\u001b[0mmap\u001b[0m\u001b[0;34m(\u001b[0m\u001b[0mint\u001b[0m\u001b[0;34m,\u001b[0m\u001b[0minput\u001b[0m\u001b[0;34m(\u001b[0m\u001b[0;34m)\u001b[0m\u001b[0;34m.\u001b[0m\u001b[0msplit\u001b[0m\u001b[0;34m(\u001b[0m\u001b[0;34m)\u001b[0m\u001b[0;34m)\u001b[0m\u001b[0;34m)\u001b[0m\u001b[0;34m\u001b[0m\u001b[0;34m\u001b[0m\u001b[0m\n\u001b[1;32m      6\u001b[0m \u001b[0ml\u001b[0m\u001b[0;34m=\u001b[0m\u001b[0;34m[\u001b[0m\u001b[0;34m[\u001b[0m\u001b[0;34m]\u001b[0m \u001b[0;32mfor\u001b[0m \u001b[0m_\u001b[0m \u001b[0;32min\u001b[0m \u001b[0mrange\u001b[0m\u001b[0;34m(\u001b[0m\u001b[0mn\u001b[0m\u001b[0;34m+\u001b[0m\u001b[0;36m1\u001b[0m\u001b[0;34m)\u001b[0m\u001b[0;34m]\u001b[0m\u001b[0;34m\u001b[0m\u001b[0;34m\u001b[0m\u001b[0m\n\u001b[0;32m----> 7\u001b[0;31m \u001b[0md\u001b[0m\u001b[0;34m[\u001b[0m\u001b[0mfloat\u001b[0m\u001b[0;34m(\u001b[0m\u001b[0;34m'inf'\u001b[0m\u001b[0;34m)\u001b[0m\u001b[0;34m]\u001b[0m\u001b[0;34m*\u001b[0m\u001b[0;34m(\u001b[0m\u001b[0mn\u001b[0m\u001b[0;34m+\u001b[0m\u001b[0;36m1\u001b[0m\u001b[0;34m)\u001b[0m\u001b[0;34m\u001b[0m\u001b[0;34m\u001b[0m\u001b[0m\n\u001b[0m\u001b[1;32m      8\u001b[0m \u001b[0;32mfor\u001b[0m \u001b[0mi\u001b[0m \u001b[0;32min\u001b[0m \u001b[0mrange\u001b[0m\u001b[0;34m(\u001b[0m\u001b[0mm\u001b[0m\u001b[0;34m)\u001b[0m\u001b[0;34m:\u001b[0m\u001b[0;34m\u001b[0m\u001b[0;34m\u001b[0m\u001b[0m\n\u001b[1;32m      9\u001b[0m   \u001b[0ml\u001b[0m\u001b[0;34m[\u001b[0m\u001b[0mu\u001b[0m\u001b[0;34m[\u001b[0m\u001b[0mi\u001b[0m\u001b[0;34m]\u001b[0m\u001b[0;34m]\u001b[0m\u001b[0;34m.\u001b[0m\u001b[0mappend\u001b[0m\u001b[0;34m(\u001b[0m\u001b[0;34m(\u001b[0m\u001b[0mv\u001b[0m\u001b[0;34m[\u001b[0m\u001b[0mi\u001b[0m\u001b[0;34m]\u001b[0m\u001b[0;34m,\u001b[0m\u001b[0mw\u001b[0m\u001b[0;34m[\u001b[0m\u001b[0mi\u001b[0m\u001b[0;34m]\u001b[0m\u001b[0;34m)\u001b[0m\u001b[0;34m)\u001b[0m\u001b[0;34m\u001b[0m\u001b[0;34m\u001b[0m\u001b[0m\n",
            "\u001b[0;31mTypeError\u001b[0m: 'int' object is not subscriptable"
          ]
        }
      ],
      "source": [
        "#Problem - A\n",
        "import heapq\n",
        "import sys\n",
        "input=sys.stdin.readline\n",
        "n,m,s,d=map(int,input().split())\n",
        "u=list(map(int,input().split()))\n",
        "v=list(map(int,input().split()))\n",
        "w=list(map(int,input().split()))\n",
        "l=[[] for _ in range(n+1)]\n",
        "for i in range(m):\n",
        "  l[u[i]].append((v[i],w[i]))\n",
        "ds=[float('inf')]*(n+1)\n",
        "ds[s]=0\n",
        "p=[-1]*(n+1)\n",
        "vis=[False]*(n+1)\n",
        "heap=[(0,s)]\n",
        "while heap:\n",
        "  x,y=heapq.heappop(heap)\n",
        "  if vis[y]:\n",
        "    continue\n",
        "  vis[y]=True\n",
        "  for i,j in l[y]:\n",
        "    if not vis[i] and ds[i]>x+j:\n",
        "      ds[i]=x+j\n",
        "      p[i]=y\n",
        "      heapq.heappush(heap,(ds[i],i))\n",
        "if ds[d]==float('inf'):\n",
        "  print(-1)\n",
        "else:\n",
        "  pt=[]\n",
        "  c=d\n",
        "  while c!=-1:\n",
        "    pt.append(c)\n",
        "    c=p[c]\n",
        "  pt.reverse()\n",
        "  print(ds[d])\n",
        "  print(' '.join(map(str,pt)))"
      ]
    },
    {
      "cell_type": "code",
      "source": [
        "#Problem - B\n",
        "import heapq\n",
        "import sys\n",
        "input=sys.stdin.readline\n",
        "n,m,s,t=map(int,input().split())\n",
        "l=[[] for _ in range(n+1)]\n",
        "for _ in range(m):\n",
        "  u,v,w=map(int,input().split())\n",
        "  l[u].append((v,w))\n",
        "def djk(n,l,st):\n",
        "  dist=[float('inf')]*(n+1)\n",
        "  dist[st]=0\n",
        "  heap=[(st,0)]\n",
        "  while heap:\n",
        "    u,td=heapq.heappop(heap)\n",
        "    if td>dist[u]:\n",
        "      continue\n",
        "    for v,w in l[u]:\n",
        "      if dist[v]>dist[u]+w:\n",
        "        dist[v]=dist[u]+w\n",
        "        heapq.heappush(heap,(v,dist[v]))\n",
        "  return dist\n",
        "a=djk(n,l,s)\n",
        "b=djk(n,l,t)\n",
        "mt=float('inf')\n",
        "mn=-1\n",
        "for i in range(1,n+1):\n",
        "  if a[i]!=float('inf') and b[i]!=float('inf'):\n",
        "    time=max(a[i],b[i])\n",
        "    if time<mt:\n",
        "      mt=time\n",
        "      mn=i\n",
        "    elif time==mt:\n",
        "      mn=min(mn,i)\n",
        "if mn==-1:\n",
        "  print(-1)\n",
        "else:\n",
        "  print(mt,mn)"
      ],
      "metadata": {
        "id": "16BOQ61cy8Ap"
      },
      "execution_count": null,
      "outputs": []
    },
    {
      "cell_type": "code",
      "source": [
        "#Problem - C\n",
        "import heapq\n",
        "import sys\n",
        "input=sys.stdin.readline\n",
        "n,m=map(int,input().split())\n",
        "l=[[] for _ in range(n+1)]\n",
        "for _ in range(m):\n",
        "  u,v,w=map(int,input().split())\n",
        "  l[u].append((v,w))\n",
        "  l[v].append((u,w))\n",
        "d=[float('inf')]*(n+1)\n",
        "d[1]=0\n",
        "heap=[(1,0)]\n",
        "while heap:\n",
        "  x,td=heapq.heappop(heap)\n",
        "  if td>d[x]:\n",
        "    continue\n",
        "  for v,w in l[x]:\n",
        "    nd=max(d[x],w)\n",
        "    if nd<d[v]:\n",
        "      d[v]=nd\n",
        "      heapq.heappush(heap,(v,d[v]))\n",
        "r=[ -1 if d[i] == float('inf') else d[i] for i in range(1,n+1)]\n",
        "print(*r)"
      ],
      "metadata": {
        "id": "ZWmMBUmZDR9V"
      },
      "execution_count": null,
      "outputs": []
    },
    {
      "cell_type": "code",
      "source": [
        "#Problem - D\n",
        "import heapq\n",
        "import sys\n",
        "input=sys.stdin.readline\n",
        "n,m,s,d=map(int,input().split())\n",
        "w=[0]+list(map(int,input().split()))\n",
        "l=[[] for _ in range(n+1)]\n",
        "for _ in range(m):\n",
        "  u,v=map(int,input().split())\n",
        "  l[u].append(v)\n",
        "dist=[float('inf')]*(n+1)\n",
        "dist[s]=0\n",
        "heap=[(s,0)]\n",
        "while heap:\n",
        "  x,td=heapq.heappop(heap)\n",
        "  if td>dist[x]:\n",
        "    continue\n",
        "  for v in l[x]:\n",
        "    if dist[v]>dist[x]+w[v]:\n",
        "      dist[v]=dist[x]+w[v]\n",
        "      heapq.heappush(heap,(v,dist[v]))\n",
        "if dist[d]==float('inf'):\n",
        "  print(-1)\n",
        "else:\n",
        "  print(dist[d]+w[s])\n"
      ],
      "metadata": {
        "colab": {
          "base_uri": "https://localhost:8080/"
        },
        "id": "VYmslElRIBZ8",
        "outputId": "d191c05f-88ce-4489-8a29-8932dac4a6f6"
      },
      "execution_count": null,
      "outputs": [
        {
          "output_type": "stream",
          "name": "stdout",
          "text": [
            "1 2 3\n"
          ]
        }
      ]
    },
    {
      "cell_type": "code",
      "source": [
        "#Problem - E\n",
        "import heapq\n",
        "import sys\n",
        "input=sys.stdin.readline\n",
        "n,m=map(int,input().split())\n",
        "u=list(map(int,input().split()))\n",
        "v=list(map(int,input().split()))\n",
        "w=list(map(int,input().split()))\n",
        "l=[[] for _ in range(n+1)]\n",
        "for i in range(m):\n",
        "  l[u[i]].append((v[i],w[i]))\n",
        "d=[[float('inf'),float('inf')] for _ in range(n+1)]\n",
        "heap=[]\n",
        "for nn,ww in l[1]:\n",
        "  p=ww%2\n",
        "  d[nn][p]=ww\n",
        "  heapq.heappush(heap,(ww,nn,p))\n",
        "while heap:\n",
        "  td,u,lp=heapq.heappop(heap)\n",
        "  if td>d[u][lp]:\n",
        "    continue\n",
        "  for nn,ww in l[u]:\n",
        "    np=ww%2\n",
        "    if np!=lp:\n",
        "      nd=td+ww\n",
        "      if nd<d[nn][np]:\n",
        "        d[nn][np]=nd\n",
        "        heapq.heappush(heap,(nd,nn,np))\n",
        "r=min(d[n][0],d[n][1])\n",
        "print(-1 if r==float('inf') else r)"
      ],
      "metadata": {
        "id": "JdKxkcdWXFEr"
      },
      "execution_count": null,
      "outputs": []
    },
    {
      "cell_type": "code",
      "source": [
        "#Problem - F\n",
        "import heapq\n",
        "import sys\n",
        "input=sys.stdin.readline\n",
        "n,m,s,d=map(int, input().split())\n",
        "l=[[]for _ in range(n + 1)]\n",
        "for _ in range(m):\n",
        "  u,v,w=map(int,input().split())\n",
        "  l[u].append((v,w))\n",
        "  l[v].append((u,w))\n",
        "ds=[float('inf')]*(n+1)\n",
        "dss=[float('inf')]*(n+1)\n",
        "ds[s]=0\n",
        "heap=[(0, s)]\n",
        "while heap:\n",
        "  dis,u=heapq.heappop(heap)\n",
        "  if dis>dss[u]:\n",
        "    continue\n",
        "  for v,w in l[u]:\n",
        "    if dis+w<ds[v]:\n",
        "      dss[v]=ds[v]\n",
        "      ds[v]=dis+w\n",
        "      heapq.heappush(heap,(dis+w, v))\n",
        "      if dss[v]<float('inf'):\n",
        "        heapq.heappush(heap,(dss[v], v))\n",
        "    elif dis+w>ds[v] and dis+w<dss[v]:\n",
        "      dss[v]=dis+w\n",
        "      heapq.heappush(heap,(dis+w,v))\n",
        "print(dss[d] if dss[d]!=float('inf') else -1)"
      ],
      "metadata": {
        "id": "nxMv-dAVj6jW"
      },
      "execution_count": null,
      "outputs": []
    }
  ]
}