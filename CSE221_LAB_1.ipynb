{
  "nbformat": 4,
  "nbformat_minor": 0,
  "metadata": {
    "colab": {
      "provenance": []
    },
    "kernelspec": {
      "name": "python3",
      "display_name": "Python 3"
    },
    "language_info": {
      "name": "python"
    }
  },
  "cells": [
    {
      "cell_type": "code",
      "source": [
        "#Problem - A\n",
        "n=[input() for _ in range(int(input()))]\n",
        "o=[f'{m} is an Even number.'if int(m[-1])%2==0 else f'{m} is an Odd number.'for m in n]\n",
        "print(\"\\n\".join(o))"
      ],
      "metadata": {
        "colab": {
          "base_uri": "https://localhost:8080/"
        },
        "id": "-Os1-BJY20QC",
        "outputId": "a94875a1-b59c-4b05-ef66-cfbe2fe3e650"
      },
      "execution_count": null,
      "outputs": [
        {
          "output_type": "stream",
          "name": "stdout",
          "text": [
            "3\n",
            "2\n",
            "3\n",
            "4\n",
            "2 is an Even number.\n",
            "3 is an Odd number.\n",
            "4 is an Even number.\n"
          ]
        }
      ]
    },
    {
      "cell_type": "code",
      "source": [
        "#Problem - B\n",
        "op = {'+': float.__add__,\n",
        "      '-': float.__sub__,\n",
        "      '*': float.__mul__,\n",
        "      '/': float.__truediv__}\n",
        "o=[]\n",
        "for _ in range(int(input())):\n",
        "  a,b,c=input()[10:].split()\n",
        "  o.append(f\"{op[b](float(a),float(c))}\")\n",
        "print(\"\\n\".join(o))"
      ],
      "metadata": {
        "colab": {
          "base_uri": "https://localhost:8080/"
        },
        "id": "Ty21puh67PC9",
        "outputId": "2a645133-66fb-4e8b-d2cb-87c0080d6934"
      },
      "execution_count": null,
      "outputs": [
        {
          "output_type": "stream",
          "name": "stdout",
          "text": [
            "2\n",
            "calculate 67 + 41\n",
            "calculate 67 + 4\n",
            "108.0\n",
            "71.0\n"
          ]
        }
      ]
    },
    {
      "cell_type": "code",
      "source": [
        "#Problem - B\n",
        "import numpy as np\n",
        "op = {'+': np.add,\n",
        "      '-': np.subtract,\n",
        "      '*': np.multiply,\n",
        "      '/': np.divide}\n",
        "o=[]\n",
        "for _ in range(int(input())):\n",
        "  a,b,c=input()[10:].split()\n",
        "  o.append(f\"{op[b](np.float32(a),np.float32(c))}\")\n",
        "print(\"\\n\".join(o))"
      ],
      "metadata": {
        "colab": {
          "base_uri": "https://localhost:8080/"
        },
        "id": "lXcvC5brm6m6",
        "outputId": "28f88737-7a87-4fe7-bda6-6910a69b0663"
      },
      "execution_count": null,
      "outputs": [
        {
          "output_type": "stream",
          "name": "stdout",
          "text": [
            "2\n",
            "calculate 67 + 41\n",
            "calculate 67 + 4\n",
            "108.0\n",
            "71.0\n"
          ]
        }
      ]
    },
    {
      "cell_type": "code",
      "source": [
        "#Problem - C\n",
        "m,n=map(int,input().split())\n",
        "a=list(map(int,input().split()))\n",
        "print(*a[:n][::-1])"
      ],
      "metadata": {
        "colab": {
          "base_uri": "https://localhost:8080/"
        },
        "id": "jCqYOu0mWJnK",
        "outputId": "250d86e8-ca39-452c-e7c4-5763fb3126f4"
      },
      "execution_count": null,
      "outputs": [
        {
          "output_type": "stream",
          "name": "stdout",
          "text": [
            "8 5\n",
            "20 8 9 3 10 7 100 12\n",
            "10 3 9 8 20\n"
          ]
        }
      ]
    },
    {
      "cell_type": "code",
      "source": [
        "#Problem - D\n",
        "for _ in range(int(input())):\n",
        "    n=int(input())\n",
        "    print(int(n*(n+1)/2))"
      ],
      "metadata": {
        "colab": {
          "base_uri": "https://localhost:8080/"
        },
        "id": "zA2ozD7VhLNj",
        "outputId": "1692ede8-f398-45ba-e6c4-e00d3d681fee"
      },
      "execution_count": null,
      "outputs": [
        {
          "output_type": "stream",
          "name": "stdout",
          "text": [
            "5\n",
            "2\n",
            "3\n",
            "4\n",
            "10\n",
            "6\n",
            "21\n",
            "8\n",
            "36\n",
            "10\n",
            "55\n"
          ]
        }
      ]
    },
    {
      "cell_type": "code",
      "source": [
        "#Problem - E\n",
        "n=int(input())\n",
        "a=list(map(int,input().split()))\n",
        "for i in range(n-1):\n",
        "  f=True\n",
        "  for j in range(n-i-1):\n",
        "    if a[j]>a[j+1]:\n",
        "      a[j],a[j+1]=a[j+1],a[j]\n",
        "      f=False\n",
        "  if f:\n",
        "    break\n",
        "print(*a)"
      ],
      "metadata": {
        "colab": {
          "base_uri": "https://localhost:8080/"
        },
        "id": "rhUUzTUPtssR",
        "outputId": "2f8ca234-2081-4844-98e3-d9713f69f10f"
      },
      "execution_count": null,
      "outputs": [
        {
          "output_type": "stream",
          "name": "stdout",
          "text": [
            "5\n",
            "5 4 3 2 1\n",
            "1 2 3 4 5\n"
          ]
        }
      ]
    },
    {
      "cell_type": "code",
      "source": [
        "#Problem - F\n",
        "n=int(input())\n",
        "a=list(zip(map(int,input().split()),map(int,input().split())))\n",
        "s=0\n",
        "for i in range(n):\n",
        "  m=i\n",
        "  for j in range(i+1,n):\n",
        "    if a[j][1]>a[m][1] or (a[j][1]==a[m][1] and a[j][0]<a[m][0]):\n",
        "      m=j\n",
        "  if m!=i:\n",
        "    a[i],a[m]=a[m],a[i]\n",
        "    s+=1\n",
        "print(f'Minimum swaps: {s}')\n",
        "for i in range(n):\n",
        "  print(f'ID: {a[i][0]} Mark: {a[i][1]}')"
      ],
      "metadata": {
        "id": "wnF_t2onyPrK",
        "colab": {
          "base_uri": "https://localhost:8080/"
        },
        "outputId": "d8be6406-307c-49e1-f0a5-1299e0deeb87"
      },
      "execution_count": null,
      "outputs": [
        {
          "output_type": "stream",
          "name": "stdout",
          "text": [
            "7\n",
            "7 4 9 3 2 5 1\n",
            "40 50 50 20 10 10 10\n",
            "ID: 4 Mark: 50\n",
            "ID: 9 Mark: 50\n",
            "ID: 7 Mark: 40\n",
            "ID: 3 Mark: 20\n",
            "ID: 1 Mark: 10\n",
            "ID: 2 Mark: 10\n",
            "ID: 5 Mark: 10\n"
          ]
        }
      ]
    },
    {
      "cell_type": "code",
      "source": [
        "#Problem - G\n",
        "t=[]\n",
        "for i in range(int(input())):\n",
        "  a,*b,c=input().split()\n",
        "  t.append((a,' '.join(b),c))\n",
        "t.sort(key=lambda x: (x[0], -int(x[2][:2]+x[2][3:])))\n",
        "print('\\n'.join(map(' '.join, t)))"
      ],
      "metadata": {
        "colab": {
          "base_uri": "https://localhost:8080/"
        },
        "id": "6aBf1f4MEpcM",
        "outputId": "4cd9a8e3-8b5a-47b1-8e88-7756e3f16461"
      },
      "execution_count": null,
      "outputs": [
        {
          "output_type": "stream",
          "name": "stdout",
          "text": [
            "8\n",
            "ABCD will departure for Mymensingh at 00:30\n",
            "DhumketuExpress will departure for Chittagong at 02:30\n",
            "ABC will departure for Dhaka at 17:30\n",
            "ABCD will departure for Chittagong at 01:00\n",
            "ABC will departure for Khulna at 03:00\n",
            "ABC will departure for Barisal at 03:00\n",
            "ABCE will departure for Sylhet at 23:05\n",
            "PadmaExpress will departure for Dhaka at 19:30\n",
            "ABC will departure for Dhaka at 17:30\n",
            "ABC will departure for Khulna at 03:00\n",
            "ABC will departure for Barisal at 03:00\n",
            "ABCD will departure for Chittagong at 01:00\n",
            "ABCD will departure for Mymensingh at 00:30\n",
            "ABCE will departure for Sylhet at 23:05\n",
            "DhumketuExpress will departure for Chittagong at 02:30\n",
            "PadmaExpress will departure for Dhaka at 19:30\n"
          ]
        }
      ]
    }
  ]
}