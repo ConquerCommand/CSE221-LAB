{
  "nbformat": 4,
  "nbformat_minor": 0,
  "metadata": {
    "colab": {
      "provenance": []
    },
    "kernelspec": {
      "name": "python3",
      "display_name": "Python 3"
    },
    "language_info": {
      "name": "python"
    }
  },
  "cells": [
    {
      "cell_type": "code",
      "execution_count": null,
      "metadata": {
        "colab": {
          "base_uri": "https://localhost:8080/"
        },
        "id": "Ijtpl4DIJQYm",
        "outputId": "870c1d81-d0ba-47e6-aaf6-9fbbec757004"
      },
      "outputs": [
        {
          "output_type": "stream",
          "name": "stdout",
          "text": [
            "4 10\n",
            "1 3 5 7\n",
            "2 4\n"
          ]
        }
      ],
      "source": [
        "#Problem - A\n",
        "n,s = map(int, input().split())\n",
        "l=list(map(int,input().split()))\n",
        "i=0\n",
        "j=len(l)\n",
        "f=True\n",
        "while i<j:\n",
        "  if l[i]+l[j-1]==s:\n",
        "    print(i+1,j)\n",
        "    f=False\n",
        "    break\n",
        "  elif l[i]+l[j-1]>s:\n",
        "    j-=1\n",
        "  else:\n",
        "    i+=1\n",
        "if f:\n",
        "  print(-1)"
      ]
    },
    {
      "cell_type": "code",
      "source": [
        "#Problem - B\n",
        "n=int(input())\n",
        "ln=list(map(int,input().split()))\n",
        "m=int(input())\n",
        "lm=list(map(int,input().split()))\n",
        "l=[]\n",
        "i=0\n",
        "j=0\n",
        "while i<n and j < m:\n",
        "  if ln[i] < lm[j]:\n",
        "    l.append(ln[i])\n",
        "    i+=1\n",
        "  else:\n",
        "    l.append(lm[j])\n",
        "    j+=1\n",
        "l.extend(ln[i:])\n",
        "l.extend(lm[j:])\n",
        "print(\" \".join(map(str, l)))"
      ],
      "metadata": {
        "colab": {
          "base_uri": "https://localhost:8080/"
        },
        "id": "iH76QG3jFuH9",
        "outputId": "6087cbc9-bce3-4af2-b471-ca16e34fcb0c"
      },
      "execution_count": null,
      "outputs": [
        {
          "output_type": "stream",
          "name": "stdout",
          "text": [
            "1 1 1 2 3 4 5 6 8 8 8 10 12 13 14 15 16\n"
          ]
        }
      ]
    },
    {
      "cell_type": "code",
      "source": [
        "#Problem - C\n",
        "n,k = map(int, input().split())\n",
        "l=list(map(int, input().split()))\n",
        "i=0\n",
        "s=0\n",
        "ml=0\n",
        "for j in range(n):\n",
        "    s+=l[j]\n",
        "    while s>k and i<=j:\n",
        "        s-=l[i]\n",
        "        i+=1\n",
        "    if ml<j-i+1:\n",
        "      ml=j-i+1\n",
        "print(ml)"
      ],
      "metadata": {
        "colab": {
          "base_uri": "https://localhost:8080/"
        },
        "id": "VxqhT0tZWsBv",
        "outputId": "11c7810d-74e9-4b25-e3a7-8fbd259d15a5"
      },
      "execution_count": null,
      "outputs": [
        {
          "output_type": "stream",
          "name": "stdout",
          "text": [
            "3 1\n",
            "2 3 4\n",
            "0\n"
          ]
        }
      ]
    },
    {
      "cell_type": "code",
      "source": [
        "#problem-D\n",
        "n=int(input())\n",
        "for _ in range(n):\n",
        "  l=input()\n",
        "  i,j = 0,len(l)-1\n",
        "  idx=-1\n",
        "  while i<=j:\n",
        "    mid=i+(j-i)//2\n",
        "    if l[mid]=='1':\n",
        "      idx=mid\n",
        "      j=mid-1\n",
        "    else:\n",
        "      i=mid+1\n",
        "  print(idx+1 if idx!=-1 else -1)"
      ],
      "metadata": {
        "colab": {
          "base_uri": "https://localhost:8080/"
        },
        "id": "zbwSwUXMp6aP",
        "outputId": "34133151-0f46-4e65-cea7-274d2203fc32"
      },
      "execution_count": null,
      "outputs": [
        {
          "output_type": "stream",
          "name": "stdout",
          "text": [
            "1\n",
            "0000000000000111111111111111111111\n",
            "14\n"
          ]
        }
      ]
    },
    {
      "cell_type": "code",
      "source": [
        "#problem-E\n",
        "n,q=map(int,input().split())\n",
        "a=list(map(int,input().split()))\n",
        "for _ in range(q):\n",
        "  idx=0\n",
        "  l,r=map(int,input().split())\n",
        "  for i in range(n):\n",
        "    if l<=a[i]<=r:\n",
        "      idx+=1\n",
        "  print(idx)\n"
      ],
      "metadata": {
        "colab": {
          "base_uri": "https://localhost:8080/"
        },
        "id": "X4ryV5zyx14t",
        "outputId": "40025d6e-09de-4738-a419-e844f44a2400"
      },
      "execution_count": null,
      "outputs": [
        {
          "output_type": "stream",
          "name": "stdout",
          "text": [
            "5 3\n",
            "10 20 20 45 79\n",
            "20 50\n",
            "4\n",
            "5 45\n",
            "5\n",
            "1 100\n",
            "6\n"
          ]
        }
      ]
    },
    {
      "cell_type": "code",
      "source": [
        "#optimized-A\n",
        "n,s=map(int,input().split())\n",
        "arr=list(map(int, input().split()))\n",
        "i,j=0,n-1\n",
        "while i<j:\n",
        "  t=arr[i]+arr[j]\n",
        "  if t==s:\n",
        "    print(i+1,j+1)\n",
        "    break\n",
        "  j-=t>s\n",
        "  i+=t<s\n",
        "else:\n",
        "    print(-1)"
      ],
      "metadata": {
        "colab": {
          "base_uri": "https://localhost:8080/"
        },
        "id": "mbolqZVn5pPo",
        "outputId": "20718f9b-a8ca-4592-b02f-0df23c512d81"
      },
      "execution_count": null,
      "outputs": [
        {
          "output_type": "stream",
          "name": "stdout",
          "text": [
            "6 18\n",
            "1 5 8 9 9 10\n",
            "3 6\n"
          ]
        }
      ]
    },
    {
      "cell_type": "code",
      "source": [
        "#optimized-B\n",
        "n=int(input())\n",
        "ln=list(map(int,input().split()))\n",
        "m=int(input())\n",
        "lm=list(map(int,input().split()))\n",
        "l=[];i=j=0\n",
        "while i<n and j<m:\n",
        "  if ln[i]<lm[j]:l.append(ln[i]);i+=1\n",
        "  else:l.append(lm[j]);j+=1\n",
        "if i<n:l+=ln[i:]\n",
        "if j<m:l+=lm[j:]\n",
        "print(*l)\n"
      ],
      "metadata": {
        "colab": {
          "base_uri": "https://localhost:8080/"
        },
        "id": "JRyeLKyMJ5e5",
        "outputId": "7bc1712b-7878-46e6-8629-f1c4d7af3abc"
      },
      "execution_count": null,
      "outputs": [
        {
          "output_type": "stream",
          "name": "stdout",
          "text": [
            "4\n",
            "1 3 5 7\n",
            "4\n",
            "2 2 4 8\n",
            "1 2 2 3 4 5 7 8\n"
          ]
        }
      ]
    },
    {
      "cell_type": "code",
      "source": [
        "#optimized-C\n",
        "n,k =map(int,input().split())\n",
        "l=list(map(int,input().split()))\n",
        "i=s=ml=0\n",
        "for j in range(n):\n",
        "  s+=l[j]\n",
        "  if s>k:\n",
        "    s-=l[i]\n",
        "    i+=1\n",
        "  ml=max(ml,j-i+1)\n",
        "print(ml)"
      ],
      "metadata": {
        "id": "WmMkkzGlM5YO",
        "colab": {
          "base_uri": "https://localhost:8080/"
        },
        "outputId": "dcf8511e-c345-4b41-af66-6ab565340b36"
      },
      "execution_count": null,
      "outputs": [
        {
          "output_type": "stream",
          "name": "stdout",
          "text": [
            "3 1\n",
            "2 3 4\n",
            "0\n"
          ]
        }
      ]
    },
    {
      "cell_type": "code",
      "source": [
        "#optimized-D\n",
        "n=int(input())\n",
        "for _ in range(n):\n",
        "  l=input()\n",
        "  i,j,idx = 0,len(l)-1,-1\n",
        "  while i<j:\n",
        "    mid=(i+j)>>1\n",
        "    if l[mid]=='1':\n",
        "      idx=j=mid\n",
        "    else:\n",
        "      i=mid+1\n",
        "  if l[i]=='1':\n",
        "    idx=i\n",
        "  print(idx+1 if idx!=-1 else -1)"
      ],
      "metadata": {
        "id": "bwA9cPlKM5xG",
        "colab": {
          "base_uri": "https://localhost:8080/"
        },
        "outputId": "1d81eaa8-e59f-4aa6-fe70-cbbe8663b996"
      },
      "execution_count": null,
      "outputs": [
        {
          "output_type": "stream",
          "name": "stdout",
          "text": [
            "1\n",
            "0000000000000111111111111111111111\n",
            "14\n"
          ]
        }
      ]
    },
    {
      "cell_type": "code",
      "source": [
        "#optimized-E\n",
        "n,q=map(int,input().split())\n",
        "a=list(map(int,input().split()))\n",
        "for _ in range(q):\n",
        "  l,r=map(int,input().split())\n",
        "  l,r=0,n\n",
        "  while l<r:\n",
        "    m=(l+r)//2\n",
        "    if a[m]<l:\n",
        "      l=m+1\n",
        "    else:\n",
        "      r=m\n",
        "  li=l\n",
        "  l,r=0,n\n",
        "  while l<r:\n",
        "    m=(l+r)//2\n",
        "    if a[m]<=r:\n",
        "      l=m+1\n",
        "    else:\n",
        "      r=m\n",
        "  ri=l\n",
        "  print(ri-li)\n"
      ],
      "metadata": {
        "colab": {
          "base_uri": "https://localhost:8080/"
        },
        "id": "1z1-zQy6M5_8",
        "outputId": "58d53ac1-4e39-4dd7-cd53-b879367b77ee"
      },
      "execution_count": null,
      "outputs": [
        {
          "output_type": "stream",
          "name": "stdout",
          "text": [
            "5 3\n",
            "10 20 20 45 79\n",
            "20 50\n",
            "3\n",
            "5 45\n",
            "4\n",
            "1 100\n",
            "5\n"
          ]
        }
      ]
    }
  ]
}