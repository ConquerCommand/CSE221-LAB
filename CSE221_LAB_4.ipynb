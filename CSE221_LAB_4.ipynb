{
  "nbformat": 4,
  "nbformat_minor": 0,
  "metadata": {
    "colab": {
      "provenance": []
    },
    "kernelspec": {
      "name": "python3",
      "display_name": "Python 3"
    },
    "language_info": {
      "name": "python"
    }
  },
  "cells": [
    {
      "cell_type": "code",
      "execution_count": null,
      "metadata": {
        "colab": {
          "base_uri": "https://localhost:8080/"
        },
        "id": "234xkqZTEaNp",
        "outputId": "97618ee1-ce26-441d-81b5-ceaa2ae910d8"
      },
      "outputs": [
        {
          "output_type": "stream",
          "name": "stdout",
          "text": [
            "6 7\n",
            "1 5 6\n",
            "6 3 5\n",
            "1 3 9\n",
            "3 4 7\n",
            "4 6 1\n",
            "5 6 8\n",
            "6 1 6\n",
            "[[0, 0, 9, 0, 6, 0], [0, 0, 0, 0, 0, 0], [0, 0, 0, 7, 0, 0], [0, 0, 0, 0, 0, 1], [0, 0, 0, 0, 0, 8], [6, 0, 5, 0, 0, 0]]\n"
          ]
        }
      ],
      "source": [
        "#Problem - A\n",
        "n,m=map(int,input().split())\n",
        "l=list(map(lambda _:[0]*n,range(n)))\n",
        "for i in range(m):\n",
        "  x,y,z=map(int,input().split())\n",
        "  l[x-1][y-1]=z\n",
        "for i in l:\n",
        "  print(' '.join(map(str, i)))"
      ]
    },
    {
      "cell_type": "code",
      "source": [
        "#Problem - B\n",
        "n,m=map(int,input().split())\n",
        "u=list(map(int,input().split()))\n",
        "v=list(map(int,input().split()))\n",
        "w=list(map(int,input().split()))\n",
        "l=[[] for _ in range(n)]\n",
        "for i in range(m):\n",
        "  l[u[i]-1].append((v[i],w[i]))\n",
        "for i in range(n):\n",
        "  print(f'{i+1}:',*l[i], sep=\" \")"
      ],
      "metadata": {
        "colab": {
          "base_uri": "https://localhost:8080/"
        },
        "id": "yaU9dyGM-c4k",
        "outputId": "68fef894-3303-4ec8-a19f-4b5648b790b6"
      },
      "execution_count": null,
      "outputs": [
        {
          "output_type": "stream",
          "name": "stdout",
          "text": [
            "4 4\n",
            "3 3 2 4\n",
            "2 1 1 3\n",
            "9 5 8 10\n",
            "1:\n",
            "2: (1, 8)\n",
            "3: (2, 9) (1, 5)\n",
            "4: (3, 10)\n"
          ]
        }
      ]
    },
    {
      "cell_type": "code",
      "source": [
        "#Problem - C\n",
        "n=int(input())\n",
        "l=list(map(lambda _:[0]*n,range(n)))\n",
        "for i in range(n):\n",
        "  k,*m=map(int,input().split())\n",
        "  for j in m:\n",
        "    l[i][j]=1\n",
        "for i in l:\n",
        "  print(' '.join(map(str, i)))"
      ],
      "metadata": {
        "colab": {
          "base_uri": "https://localhost:8080/"
        },
        "id": "xgeFS6boCQCr",
        "outputId": "73e25a1c-a690-4668-f021-5b97ae108f46"
      },
      "execution_count": null,
      "outputs": [
        {
          "output_type": "stream",
          "name": "stdout",
          "text": [
            "5\n",
            "2 1 2\n",
            "1 0\n",
            "1 0\n",
            "1 4\n",
            "1 3\n",
            "0 1 1 0 0\n",
            "1 0 0 0 0\n",
            "1 0 0 0 0\n",
            "0 0 0 0 1\n",
            "0 0 0 1 0\n"
          ]
        }
      ]
    },
    {
      "cell_type": "code",
      "source": [
        "#Problem - D\n",
        "n,m=map(int,input().split())\n",
        "u=list(map(int,input().split()))\n",
        "v=list(map(int,input().split()))\n",
        "d=[0]*(n+1)\n",
        "for a,b in zip(u, v):\n",
        "  d[a]+=1\n",
        "  d[b]+=1\n",
        "c=0\n",
        "for i in range(n):\n",
        "  if d[i+1]%2!=0:\n",
        "    c+=1\n",
        "print(\"YES\"if c==0 or c==2 else\"NO\")"
      ],
      "metadata": {
        "id": "imAfBUT8jgp0"
      },
      "execution_count": null,
      "outputs": []
    },
    {
      "cell_type": "code",
      "source": [
        "#Problem - E\n",
        "n,m=map(int,input().split())\n",
        "u=list(map(int,input().split()))\n",
        "v=list(map(int,input().split()))\n",
        "d=[0]*(n+1)\n",
        "for a,b in zip(u, v):\n",
        "  d[a]-=1\n",
        "  d[b]+=1\n",
        "for i in range(n):\n",
        "  print(d[i+1],end=' ')"
      ],
      "metadata": {
        "colab": {
          "base_uri": "https://localhost:8080/"
        },
        "id": "z1PPq__Vn2w1",
        "outputId": "9b75f748-b452-4bb2-d0fd-028f2c884d78"
      },
      "execution_count": null,
      "outputs": [
        {
          "output_type": "execute_result",
          "data": {
            "text/plain": [
              "[0, 5, 0]"
            ]
          },
          "metadata": {},
          "execution_count": 1
        }
      ]
    },
    {
      "cell_type": "code",
      "source": [
        "#Problem - F\n",
        "n=int(input())\n",
        "x,y=map(int,input().split())\n",
        "l=[]\n",
        "if x>1 and y>1:\n",
        "  l.append((x-1,y-1))\n",
        "if x>1:\n",
        "  l.append((x-1,y))\n",
        "if x>1 and y<n:\n",
        "  l.append((x-1,y+1))\n",
        "if y>1:\n",
        "  l.append((x,y-1))\n",
        "if y<n:\n",
        "  l.append((x,y+1))\n",
        "if x<n and y>1:\n",
        "  l.append((x+1,y-1))\n",
        "if x<n:\n",
        "  l.append((x+1,y))\n",
        "if x<n and y<n:\n",
        "  l.append((x+1,y+1))\n",
        "print(len(l))\n",
        "for i in l:\n",
        "  print(' '.join(map(str, i)))"
      ],
      "metadata": {
        "colab": {
          "base_uri": "https://localhost:8080/"
        },
        "id": "mDFRKXp4YiOz",
        "outputId": "9a6fbdc4-9bae-4034-ed24-947b07a65365"
      },
      "execution_count": null,
      "outputs": [
        {
          "output_type": "stream",
          "name": "stdout",
          "text": [
            "1\n",
            "1 1\n",
            "0\n"
          ]
        }
      ]
    },
    {
      "cell_type": "code",
      "source": [
        "#Problem - G\n",
        "def gcd(a,b):\n",
        "  while b:\n",
        "    a,b=b,a%b\n",
        "  return a\n",
        "n,m=map(int,input().split())\n",
        "l=[]\n",
        "for i in range(1,n+1):\n",
        "  ng=[]\n",
        "  for j in range(1,n+1):\n",
        "    if i!=j and gcd(i,j)==1:\n",
        "      ng.append(j)\n",
        "  l.append(ng)\n",
        "for _ in range(m):\n",
        "  x,k=map(int,input().split())\n",
        "  if k > len(l[x-1]):\n",
        "    print(-1)\n",
        "  else:\n",
        "    print(l[x-1][k-1])"
      ],
      "metadata": {
        "colab": {
          "base_uri": "https://localhost:8080/"
        },
        "id": "DH8Abb8l09_c",
        "outputId": "6787bbe4-1b9d-430c-e213-aa3163283776"
      },
      "execution_count": null,
      "outputs": [
        {
          "output_type": "stream",
          "name": "stdout",
          "text": [
            "2000 3\n",
            "903 24\n",
            "41\n",
            "702 563\n",
            "1829\n",
            "942 50\n",
            "149\n"
          ]
        }
      ]
    }
  ]
}