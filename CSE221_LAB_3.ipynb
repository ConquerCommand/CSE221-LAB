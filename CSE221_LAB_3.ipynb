{
  "nbformat": 4,
  "nbformat_minor": 0,
  "metadata": {
    "colab": {
      "provenance": []
    },
    "kernelspec": {
      "name": "python3",
      "display_name": "Python 3"
    },
    "language_info": {
      "name": "python"
    }
  },
  "cells": [
    {
      "cell_type": "code",
      "execution_count": null,
      "metadata": {
        "id": "frOFydYi9Y5i",
        "colab": {
          "base_uri": "https://localhost:8080/"
        },
        "outputId": "6efb16d0-1496-4436-f584-aa6c11a8b0bc"
      },
      "outputs": [
        {
          "output_type": "stream",
          "name": "stdout",
          "text": [
            "6\n",
            "1 2 3 4 5\n",
            "0\n",
            "1 2 3 4 5\n"
          ]
        }
      ],
      "source": [
        "#Problem - A\n",
        "def merge(a, b):\n",
        "  global inv\n",
        "  i,j,m=0,0,[]\n",
        "  while i < len(a) and j < len(b):\n",
        "    if a[i] <= b[j]:\n",
        "      m.append(a[i])\n",
        "      i += 1\n",
        "    else:\n",
        "      m.append(b[j])\n",
        "      inv+=len(a) - i\n",
        "      j += 1\n",
        "  m += a[i:]\n",
        "  m += b[j:]\n",
        "  return m\n",
        "def mergeSort(arr):\n",
        "  if len(arr) <= 1:\n",
        "    return arr\n",
        "  else:\n",
        "    mid = len(arr)//2\n",
        "    a1 = mergeSort(arr[:mid])\n",
        "    a2 = mergeSort(arr[mid:])\n",
        "    return merge(a1, a2)\n",
        "inv=0\n",
        "_=int(input())\n",
        "a = list(map(int, input().split()))\n",
        "sa = mergeSort(a)\n",
        "print(inv)\n",
        "print(*sa)"
      ]
    },
    {
      "cell_type": "code",
      "source": [
        "#Problem - B\n",
        "def maxpair(arr, l, r):\n",
        "  if l == r:\n",
        "    return arr[l], float('-inf')\n",
        "  mid = (l + r) // 2\n",
        "  li, lij = maxpair(arr, l, mid)\n",
        "  ri, rij = maxpair(arr, mid + 1, r)\n",
        "  rj2 = max(x * x for x in arr[mid + 1:r + 1])\n",
        "  cc = li + rj2\n",
        "  final_i = max(li, ri)\n",
        "  final_ij = max(lij, rij, cc)\n",
        "  return final_i, final_ij\n",
        "n =int(input())\n",
        "a =list(map(int, input().split()))\n",
        "_, r = maxpair(a, 0, n - 1)\n",
        "print(r)"
      ],
      "metadata": {
        "colab": {
          "base_uri": "https://localhost:8080/"
        },
        "id": "QVbaZh2GB_7m",
        "outputId": "347cd34c-a5f1-4182-f091-afb28544418d"
      },
      "execution_count": null,
      "outputs": [
        {
          "output_type": "stream",
          "name": "stdout",
          "text": [
            "5\n",
            "4 3 1 -9 6\n",
            "85\n"
          ]
        }
      ]
    },
    {
      "cell_type": "code",
      "source": [
        "#Problem - C\n",
        "a,b=map(int, input().split())\n",
        "print(pow(a, b, 107))"
      ],
      "metadata": {
        "colab": {
          "base_uri": "https://localhost:8080/"
        },
        "id": "euJrghXkpd3H",
        "outputId": "7958a2a8-3746-4e70-b558-f2f5e3f6d67d"
      },
      "execution_count": null,
      "outputs": [
        {
          "output_type": "stream",
          "name": "stdout",
          "text": [
            "100 5\n",
            "99\n"
          ]
        }
      ]
    },
    {
      "cell_type": "code",
      "source": [
        "#Problem - D\n",
        "def FMDR(a, n, m):\n",
        "  if n==1:\n",
        "    return a%m,a%m\n",
        "  if n%2==0:\n",
        "    p,s=FMDR(a,n//2,m)\n",
        "    np=(p*p)%m\n",
        "    ns=(s*(1+p))%m\n",
        "    return np,ns\n",
        "  else:\n",
        "    p,s=FMDR(a,n-1,m)\n",
        "    np=(a*p)%m\n",
        "    ns=(s+np)%m\n",
        "    return np,ns\n",
        "n=int(input())\n",
        "for _ in range(n):\n",
        "  a,n,m=map(int,input().split())\n",
        "  _,s=FMDR(a,n,m)\n",
        "  print(s)\n"
      ],
      "metadata": {
        "colab": {
          "base_uri": "https://localhost:8080/"
        },
        "id": "Ph2k2pzMs28B",
        "outputId": "7ec8eb61-7b4f-432d-9b81-b628668f74ba"
      },
      "execution_count": null,
      "outputs": [
        {
          "output_type": "stream",
          "name": "stdout",
          "text": [
            "1\n",
            "1 1 1\n",
            "0\n"
          ]
        }
      ]
    },
    {
      "cell_type": "code",
      "source": [
        "#Problem - E\n",
        "def build_order(a,l,r,new_order):\n",
        "  if l > r:\n",
        "    return\n",
        "  mid=(l+r)//2\n",
        "  new_order.append(a[mid])\n",
        "  build_order(a,l,mid-1,new_order)\n",
        "  build_order(a,mid+1,r,new_order)\n",
        "new_order=[]\n",
        "n=int(input())\n",
        "a=list(map(int,input().split()))\n",
        "build_order(a,0,n-1,new_order)\n",
        "print(\" \".join(map(str,new_order)))"
      ],
      "metadata": {
        "colab": {
          "base_uri": "https://localhost:8080/"
        },
        "id": "-Js-5z-Gy830",
        "outputId": "79dcb35e-88ad-45f6-debd-d68070035a73"
      },
      "execution_count": null,
      "outputs": [
        {
          "output_type": "stream",
          "name": "stdout",
          "text": [
            "5\n",
            "1 2 3 4 5\n",
            "3 1 2 4 5\n"
          ]
        }
      ]
    },
    {
      "cell_type": "code",
      "source": [
        "#Problem - E\n",
        "def make_postorder(l,r):\n",
        "  global pre_index,postorder\n",
        "  if l>r:\n",
        "    return []\n",
        "  root=preorder[pre_index]\n",
        "  pre_index+=1\n",
        "  idx=in_index[root]\n",
        "  ls=make_postorder(l,idx-1)\n",
        "  rs=make_postorder(idx+1,r)\n",
        "  return ls+rs+[root]\n",
        "n=int(input().strip())\n",
        "inorder=list(map(int,input().split()))\n",
        "preorder=list(map(int,input().split()))\n",
        "in_index={val:i for i,val in enumerate(inorder)}\n",
        "pre_index=0\n",
        "postorder=[]\n",
        "postorder=make_postorder(0,n-1)\n",
        "print(\" \".join(map(str,postorder)))"
      ],
      "metadata": {
        "colab": {
          "base_uri": "https://localhost:8080/"
        },
        "id": "qVfAcjK00eJX",
        "outputId": "1b5600f2-6157-4bbb-94bb-f8fb7cb862bb"
      },
      "execution_count": null,
      "outputs": [
        {
          "output_type": "stream",
          "name": "stdout",
          "text": [
            "5\n",
            "4 2 5 1 3\n",
            "1 2 4 5 3\n",
            "{4: 0, 2: 1, 5: 2, 1: 3, 3: 4}\n"
          ]
        }
      ]
    }
  ]
}