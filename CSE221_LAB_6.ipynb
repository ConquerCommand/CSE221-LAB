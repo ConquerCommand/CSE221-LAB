{
  "nbformat": 4,
  "nbformat_minor": 0,
  "metadata": {
    "colab": {
      "provenance": []
    },
    "kernelspec": {
      "name": "python3",
      "display_name": "Python 3"
    },
    "language_info": {
      "name": "python"
    }
  },
  "cells": [
    {
      "cell_type": "code",
      "execution_count": null,
      "metadata": {
        "id": "_ebEGSmHNMPx",
        "colab": {
          "base_uri": "https://localhost:8080/"
        },
        "outputId": "233e9b4a-d599-402a-a8be-d0bc16c40fe8"
      },
      "outputs": [
        {
          "output_type": "stream",
          "name": "stdout",
          "text": [
            "1\n",
            "2\n",
            "4\n",
            "2\n",
            "[2, 4, 1, 5, 3]\n"
          ]
        }
      ],
      "source": [
        "#Problem - A\n",
        "import sys\n",
        "sys.setrecursionlimit(2*10**5+5)\n",
        "input=sys.stdin.readline\n",
        "n,m=map(int,input().split())\n",
        "l=[[] for _ in range(n)]\n",
        "ind=[0]*n\n",
        "for _ in range(m):\n",
        "  u,v=map(int,input().split())\n",
        "  l[u-1].append(v)\n",
        "  ind[v-1]+=1\n",
        "q=[]\n",
        "r=[]\n",
        "for i in range(n):\n",
        "  if ind[i]==0:\n",
        "    q.append(i+1)\n",
        "while q:\n",
        "  u=q.pop(0)\n",
        "  r.append(u)\n",
        "  for v in l[u-1]:\n",
        "    ind[v-1]-=1\n",
        "    if ind[v-1]==0:\n",
        "      q.append(v)\n",
        "if len(r)!=n:\n",
        "    print(-1)\n",
        "else:\n",
        "    print(*r)"
      ]
    },
    {
      "cell_type": "code",
      "source": [
        "#Problem - B\n",
        "import sys\n",
        "sys.setrecursionlimit(2*10**5+5)\n",
        "input=sys.stdin.readline\n",
        "n, m = map(int, input().split())\n",
        "l=[[] for _ in range(n+1)]\n",
        "for _ in range(m):\n",
        "  u,v=map(int,input().split())\n",
        "  l[u].append(v)\n",
        "  l[v].append(u)\n",
        "t=[-1]*(n+1)\n",
        "r=0\n",
        "for i in range(1,n+1):\n",
        "  if t[i] != -1:\n",
        "    continue\n",
        "  hr=[0,0]\n",
        "  q=[i]\n",
        "  t[i]=0\n",
        "  hr[0]+=1\n",
        "  while q:\n",
        "    x=q.pop(0)\n",
        "    for y in l[x]:\n",
        "      if t[y]==-1:\n",
        "        t[y]=1-t[x]\n",
        "        hr[t[y]]+=1\n",
        "        q.append(y)\n",
        "  r+=max(hr)\n",
        "print(r)"
      ],
      "metadata": {
        "colab": {
          "base_uri": "https://localhost:8080/",
          "height": 211
        },
        "id": "LDdJE-zlJapn",
        "outputId": "d26697e3-e3d3-4d55-88bc-ef32417ea5f2"
      },
      "execution_count": null,
      "outputs": [
        {
          "output_type": "error",
          "ename": "ValueError",
          "evalue": "not enough values to unpack (expected 2, got 0)",
          "traceback": [
            "\u001b[0;31m---------------------------------------------------------------------------\u001b[0m",
            "\u001b[0;31mValueError\u001b[0m                                Traceback (most recent call last)",
            "\u001b[0;32m<ipython-input-70-b806eaa85239>\u001b[0m in \u001b[0;36m<cell line: 0>\u001b[0;34m()\u001b[0m\n\u001b[1;32m      3\u001b[0m \u001b[0;31m# sys.setrecursionlimit(2*10**5+5)\u001b[0m\u001b[0;34m\u001b[0m\u001b[0;34m\u001b[0m\u001b[0m\n\u001b[1;32m      4\u001b[0m \u001b[0;31m# input=sys.stdin.readline\u001b[0m\u001b[0;34m\u001b[0m\u001b[0;34m\u001b[0m\u001b[0m\n\u001b[0;32m----> 5\u001b[0;31m \u001b[0mn\u001b[0m\u001b[0;34m,\u001b[0m \u001b[0mm\u001b[0m \u001b[0;34m=\u001b[0m \u001b[0mmap\u001b[0m\u001b[0;34m(\u001b[0m\u001b[0mint\u001b[0m\u001b[0;34m,\u001b[0m \u001b[0minput\u001b[0m\u001b[0;34m(\u001b[0m\u001b[0;34m)\u001b[0m\u001b[0;34m.\u001b[0m\u001b[0msplit\u001b[0m\u001b[0;34m(\u001b[0m\u001b[0;34m)\u001b[0m\u001b[0;34m)\u001b[0m\u001b[0;34m\u001b[0m\u001b[0;34m\u001b[0m\u001b[0m\n\u001b[0m\u001b[1;32m      6\u001b[0m \u001b[0ml\u001b[0m\u001b[0;34m=\u001b[0m\u001b[0;34m[\u001b[0m\u001b[0;34m[\u001b[0m\u001b[0;34m]\u001b[0m \u001b[0;32mfor\u001b[0m \u001b[0m_\u001b[0m \u001b[0;32min\u001b[0m \u001b[0mrange\u001b[0m\u001b[0;34m(\u001b[0m\u001b[0mn\u001b[0m\u001b[0;34m+\u001b[0m\u001b[0;36m1\u001b[0m\u001b[0;34m)\u001b[0m\u001b[0;34m]\u001b[0m\u001b[0;34m\u001b[0m\u001b[0;34m\u001b[0m\u001b[0m\n\u001b[1;32m      7\u001b[0m \u001b[0;32mfor\u001b[0m \u001b[0m_\u001b[0m \u001b[0;32min\u001b[0m \u001b[0mrange\u001b[0m\u001b[0;34m(\u001b[0m\u001b[0mm\u001b[0m\u001b[0;34m)\u001b[0m\u001b[0;34m:\u001b[0m\u001b[0;34m\u001b[0m\u001b[0;34m\u001b[0m\u001b[0m\n",
            "\u001b[0;31mValueError\u001b[0m: not enough values to unpack (expected 2, got 0)"
          ]
        }
      ]
    },
    {
      "cell_type": "code",
      "source": [
        "#Problem - C\n",
        "import sys\n",
        "from collections import deque\n",
        "input=sys.stdin.readline\n",
        "n=int(input())\n",
        "x,y,a,b=map(int,input().split())\n",
        "if (x,y)==(a,b):\n",
        "  print(0)\n",
        "elif n<3 or max(x,y,a,b)>n:\n",
        "  print(-1)\n",
        "elif n==3 and (x==y==2 or a==b==2):\n",
        "  print(-1)\n",
        "else:\n",
        "  d=[[2,1],[2,-1],[-2,1],[-2,-1],[1,2],[-1,2],[1,-2],[-1,-2]]\n",
        "  q1=deque([(x,y)])\n",
        "  q2=deque([(a,b)])\n",
        "  m1=[[-1]*(n+1) for _ in range(n+1)]\n",
        "  m2=[[-1]*(n+1) for _ in range(n+1)]\n",
        "  m1[x][y]=0\n",
        "  m2[a][b]=0\n",
        "  while q1 and q2:\n",
        "    if len(q1) <= len(q2):\n",
        "      q,mc,mo=q1,m1,m2\n",
        "    else:\n",
        "      q,mc,mo=q2,m2,m1\n",
        "    for _ in range(len(q)):\n",
        "      x,y=q.popleft()\n",
        "      for dx,dy in d:\n",
        "        nx,ny=x+dx,y+dy\n",
        "        if not (1<=nx<=n and 1<=ny<=n):\n",
        "          continue\n",
        "        if mc[nx][ny]!=-1:\n",
        "          continue\n",
        "        if mo[nx][ny]!=-1:\n",
        "          print(mc[x][y]+1+mo[nx][ny])\n",
        "          sys.exit()\n",
        "        mc[nx][ny]=mc[x][y]+1\n",
        "        q.append((nx,ny))"
      ],
      "metadata": {
        "colab": {
          "base_uri": "https://localhost:8080/"
        },
        "id": "wEztoIeHGyT5",
        "outputId": "ed7ac3a8-df40-47c5-c627-f6707687215b"
      },
      "execution_count": null,
      "outputs": [
        {
          "output_type": "stream",
          "name": "stdout",
          "text": [
            "3\n"
          ]
        }
      ]
    },
    {
      "cell_type": "code",
      "source": [
        "#Problem - C\n",
        "# n=int(input())\n",
        "# x,y,a,b=map(int,input().split())\n",
        "# n=3\n",
        "# x,y,a,b=1, 2, 1, 3\n",
        "# if (x,y)==(a,b):\n",
        "#   print(0)\n",
        "# elif n<3 or (max(x,y,a,b)>n):\n",
        "#   print(-1)\n",
        "# elif n==3 and (x==y==2 or a==b==2):\n",
        "#   print(-1)\n",
        "# d=[[2,1],[2,-1],[-2,1],[-2,-1],[1,2],[-1,2],[1,-2],[-1,-2]]\n",
        "# v=[[False]*(n+1) for _ in range(n+1)]\n",
        "# def ff(x,y,m):\n",
        "#   if x==a and y==b:\n",
        "#     return m\n",
        "#   if 1>=x>=n or 1>=y>=n:\n",
        "#     return float('inf')\n",
        "#   if v[x][y]:\n",
        "#     return float('inf')\n",
        "#   v[x][y]=True\n",
        "#   m1=ff(x+d[0][0],y+d[0][1],m+1)\n",
        "#   m2=ff(x+d[1][0],y+d[1][1],m+1)\n",
        "#   m3=ff(x+d[2][0],y+d[2][1],m+1)\n",
        "#   m4=ff(x+d[3][0],y+d[3][1],m+1)\n",
        "#   m5=ff(x+d[4][0],y+d[4][1],m+1)\n",
        "#   m6=ff(x+d[5][0],y+d[5][1],m+1)\n",
        "#   m7=ff(x+d[6][0],y+d[6][1],m+1)\n",
        "#   m8=ff(x+d[7][0],y+d[7][1],m+1)\n",
        "#   return min(m1,m2,m3,m4,m5,m6,m7,m8)\n",
        "# m=ff(x,y,0)\n",
        "# print(m)"
      ],
      "metadata": {
        "colab": {
          "base_uri": "https://localhost:8080/"
        },
        "id": "EroRyM3BUbF2",
        "outputId": "575e8e70-af7b-47ac-9360-ef768abfd41a"
      },
      "execution_count": null,
      "outputs": [
        {
          "output_type": "execute_result",
          "data": {
            "text/plain": [
              "(1, 2)"
            ]
          },
          "metadata": {},
          "execution_count": 12
        }
      ]
    },
    {
      "cell_type": "code",
      "source": [
        "#Problem - D\n",
        "import sys\n",
        "input=sys.stdin.readline\n",
        "n,r=map(int,input().split())\n",
        "l=[[] for _ in range(n+1)]\n",
        "for i in range(n-1):\n",
        "  u,v=map(int,input().split())\n",
        "  l[u].append(v)\n",
        "  l[v].append(u)\n",
        "st=[0]*(n+1)\n",
        "p=[0]*(n+1)\n",
        "o=[]\n",
        "s=[r]\n",
        "p[r]=-1\n",
        "while s:\n",
        "  u=s.pop()\n",
        "  o.append(u)\n",
        "  for v in l[u]:\n",
        "    if v==p[u]:\n",
        "      continue\n",
        "    p[v]=u\n",
        "    s.append(v)\n",
        "for u in reversed(o):\n",
        "  st[u]=1\n",
        "  for v in l[u]:\n",
        "    if v!=p[u]:\n",
        "      st[u]+=st[v]\n",
        "q=int(input())\n",
        "r=[]\n",
        "for _ in range(q):\n",
        "  x=int(input())\n",
        "  r.append(str(st[x]))\n",
        "print(\"\\n\".join(r))"
      ],
      "metadata": {
        "colab": {
          "base_uri": "https://localhost:8080/",
          "height": 211
        },
        "id": "zAYcV1x7hUYq",
        "outputId": "50b4a6dc-ec4f-4bda-9174-7d59890cad7e"
      },
      "execution_count": null,
      "outputs": [
        {
          "output_type": "error",
          "ename": "ValueError",
          "evalue": "not enough values to unpack (expected 2, got 0)",
          "traceback": [
            "\u001b[0;31m---------------------------------------------------------------------------\u001b[0m",
            "\u001b[0;31mValueError\u001b[0m                                Traceback (most recent call last)",
            "\u001b[0;32m<ipython-input-14-fd90836d0221>\u001b[0m in \u001b[0;36m<cell line: 0>\u001b[0;34m()\u001b[0m\n\u001b[1;32m      1\u001b[0m \u001b[0;31m#problem-D\u001b[0m\u001b[0;34m\u001b[0m\u001b[0;34m\u001b[0m\u001b[0m\n\u001b[0;32m----> 2\u001b[0;31m \u001b[0mn\u001b[0m\u001b[0;34m,\u001b[0m\u001b[0mr\u001b[0m\u001b[0;34m=\u001b[0m\u001b[0mmap\u001b[0m\u001b[0;34m(\u001b[0m\u001b[0mint\u001b[0m\u001b[0;34m,\u001b[0m\u001b[0minput\u001b[0m\u001b[0;34m(\u001b[0m\u001b[0;34m)\u001b[0m\u001b[0;34m.\u001b[0m\u001b[0msplit\u001b[0m\u001b[0;34m(\u001b[0m\u001b[0;34m)\u001b[0m\u001b[0;34m)\u001b[0m\u001b[0;34m\u001b[0m\u001b[0;34m\u001b[0m\u001b[0m\n\u001b[0m\u001b[1;32m      3\u001b[0m \u001b[0ml\u001b[0m\u001b[0;34m=\u001b[0m\u001b[0;34m[\u001b[0m\u001b[0;34m[\u001b[0m\u001b[0;34m]\u001b[0m \u001b[0;32mfor\u001b[0m \u001b[0m_\u001b[0m \u001b[0;32min\u001b[0m \u001b[0mrange\u001b[0m\u001b[0;34m(\u001b[0m\u001b[0mn\u001b[0m\u001b[0;34m+\u001b[0m\u001b[0;36m1\u001b[0m\u001b[0;34m)\u001b[0m\u001b[0;34m]\u001b[0m\u001b[0;34m\u001b[0m\u001b[0;34m\u001b[0m\u001b[0m\n\u001b[1;32m      4\u001b[0m \u001b[0;32mfor\u001b[0m \u001b[0mi\u001b[0m \u001b[0;32min\u001b[0m \u001b[0mrange\u001b[0m\u001b[0;34m(\u001b[0m\u001b[0mn\u001b[0m\u001b[0;34m-\u001b[0m\u001b[0;36m1\u001b[0m\u001b[0;34m)\u001b[0m\u001b[0;34m:\u001b[0m\u001b[0;34m\u001b[0m\u001b[0;34m\u001b[0m\u001b[0m\n\u001b[1;32m      5\u001b[0m   \u001b[0mu\u001b[0m\u001b[0;34m,\u001b[0m\u001b[0mv\u001b[0m\u001b[0;34m=\u001b[0m\u001b[0mmap\u001b[0m\u001b[0;34m(\u001b[0m\u001b[0mint\u001b[0m\u001b[0;34m,\u001b[0m\u001b[0minput\u001b[0m\u001b[0;34m(\u001b[0m\u001b[0;34m)\u001b[0m\u001b[0;34m.\u001b[0m\u001b[0msplit\u001b[0m\u001b[0;34m(\u001b[0m\u001b[0;34m)\u001b[0m\u001b[0;34m)\u001b[0m\u001b[0;34m\u001b[0m\u001b[0;34m\u001b[0m\u001b[0m\n",
            "\u001b[0;31mValueError\u001b[0m: not enough values to unpack (expected 2, got 0)"
          ]
        }
      ]
    },
    {
      "cell_type": "code",
      "source": [
        "#Problem - E\n",
        "import sys\n",
        "from collections import deque\n",
        "input = sys.stdin.readline\n",
        "n=int(input())\n",
        "l=[[] for _ in range(n+1)]\n",
        "for i in range(n-1):\n",
        "  u,v=map(int,input().split())\n",
        "  l[u].append(v)\n",
        "  l[v].append(u)\n",
        "def bfs(s):\n",
        "  d=[-1]*(n+1)\n",
        "  q=deque([s])\n",
        "  d[s]=0\n",
        "  fn=s\n",
        "  while q:\n",
        "    u=q.popleft()\n",
        "    for v in l[u]:\n",
        "      if d[v]==-1:\n",
        "        d[v]=d[u]+1\n",
        "        q.append(v)\n",
        "        if d[v]>d[fn]:\n",
        "          fn=v\n",
        "  return fn,d\n",
        "u,_=bfs(1)\n",
        "v,d=bfs(u)\n",
        "print(d[v])\n",
        "print(u,v)"
      ],
      "metadata": {
        "id": "DGgdT1OrtgWM"
      },
      "execution_count": null,
      "outputs": []
    },
    {
      "cell_type": "code",
      "source": [
        "#Problem - E\n",
        "import sys\n",
        "import heapq\n",
        "input = sys.stdin.readline\n",
        "n=int(input())\n",
        "words=[input().strip() for _ in range(n)]\n",
        "l=[[] for _ in range(26)]\n",
        "ind=[0]*26\n",
        "present=[False]*26\n",
        "n=len(words)\n",
        "for w in words:\n",
        "  for ch in w:\n",
        "    present[ord(ch)-97]=True\n",
        "for i in range(n-1):\n",
        "  s1,s2=words[i],words[i+1]\n",
        "  if len(s1)>len(s2) and s1.startswith(s2):\n",
        "    print(\"-1\")\n",
        "    sys.exit()\n",
        "  for c1,c2 in zip(s1,s2):\n",
        "    if c1!=c2:\n",
        "      l[ord(c1)-97].append(ord(c2)-97)\n",
        "      ind[ord(c2)-97]+=1\n",
        "      break\n",
        "pq=[]\n",
        "for c in range(26):\n",
        "  if ind[c]==0:\n",
        "    heapq.heappush(pq,c)\n",
        "r=[]\n",
        "while pq:\n",
        "  u=heapq.heappop(pq)\n",
        "  r.append(u)\n",
        "  for v in l[u]:\n",
        "    ind[v]-=1\n",
        "    if ind[v]==0:\n",
        "      heapq.heappush(pq, v)\n",
        "if len(r)<26:\n",
        "  print(\"-1\")\n",
        "else:\n",
        "  print(\"\".join(chr(c+97) for c in r if present[c]))"
      ],
      "metadata": {
        "id": "Er6gDl024heg"
      },
      "execution_count": null,
      "outputs": []
    }
  ]
}