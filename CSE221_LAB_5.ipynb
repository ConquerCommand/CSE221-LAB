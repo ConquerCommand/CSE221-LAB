{
  "nbformat": 4,
  "nbformat_minor": 0,
  "metadata": {
    "colab": {
      "provenance": []
    },
    "kernelspec": {
      "name": "python3",
      "display_name": "Python 3"
    },
    "language_info": {
      "name": "python"
    }
  },
  "cells": [
    {
      "cell_type": "code",
      "execution_count": null,
      "metadata": {
        "id": "gQnnZIIiIi_P"
      },
      "outputs": [],
      "source": [
        "def BFS(G,s):\n",
        "    for u in G.V:\n",
        "        u.colour = 0\n",
        "    Q = []\n",
        "    s.colour = 1\n",
        "    Q.append(s)\n",
        "    while Q:\n",
        "        u = Q.pop(0)\n",
        "        for v in G.Adj[u]:\n",
        "            if v.colour == 0:\n",
        "                v.colour = 1\n",
        "                Q.append(v)"
      ]
    },
    {
      "cell_type": "code",
      "source": [
        "def colourInitializing(G):\n",
        "   for u in G.V:\n",
        "      u.colour = 0\n",
        "def DFS(G,u):\n",
        "   u.colour = 1\n",
        "   for v in G.Adj[u]:\n",
        "      if v.colour == 0:\n",
        "         DFS(G,v)"
      ],
      "metadata": {
        "id": "biZ4Z55HA101"
      },
      "execution_count": null,
      "outputs": []
    },
    {
      "cell_type": "code",
      "source": [
        "#Problem - A\n",
        "n,m=map(int,input().split())\n",
        "l=[[False] for _ in range(n+1)]\n",
        "for _ in range(m):\n",
        "  u,v=map(int,input().split())\n",
        "  l[u].append(v)\n",
        "  l[v].append(u)\n",
        "q=[]\n",
        "q.append(1)\n",
        "l[1][0]=True\n",
        "r=[]\n",
        "while q:\n",
        "  b=q.pop(0)\n",
        "  r.append(str(b))\n",
        "  for a in l[b]:\n",
        "    if not l[a][0]:\n",
        "      l[a][0]=True\n",
        "      q.append(a)\n",
        "print(' '.join(r))"
      ],
      "metadata": {
        "colab": {
          "base_uri": "https://localhost:8080/"
        },
        "id": "rkGQEax6ZNDX",
        "outputId": "4023685b-3d64-412c-b131-75fe4cff0185"
      },
      "execution_count": null,
      "outputs": [
        {
          "output_type": "stream",
          "name": "stdout",
          "text": [
            "4 3\n",
            "1 4\n",
            "2 3\n",
            "1 3\n",
            "1 4 3 2\n"
          ]
        }
      ]
    },
    {
      "cell_type": "code",
      "source": [
        "#Problem - B\n",
        "import sys\n",
        "sys.setrecursionlimit(2*10**5+5)\n",
        "input=sys.stdin.readline\n",
        "n,m=map(int,input().split())\n",
        "u=list(map(int,input().split()))\n",
        "v=list(map(int,input().split()))\n",
        "l=[[] for _ in range(n+1)]\n",
        "for i, j in zip(u, v):\n",
        "  l[i].append(j)\n",
        "  l[j].append(i)\n",
        "p=[False]*(n+1)\n",
        "r=[]\n",
        "s=[1]\n",
        "while s:\n",
        "  a=s.pop()\n",
        "  if p[a]:\n",
        "    continue\n",
        "  p[a]=True\n",
        "  r.append(str(a))\n",
        "  for b in l[a]:\n",
        "    if not p[b]:\n",
        "      s.append(b)\n",
        "print(' '.join(r))"
      ],
      "metadata": {
        "colab": {
          "base_uri": "https://localhost:8080/"
        },
        "id": "tKGYNqxx6xNO",
        "outputId": "61791752-c557-42ff-93f3-968da4a82ed1"
      },
      "execution_count": null,
      "outputs": [
        {
          "output_type": "stream",
          "name": "stdout",
          "text": [
            "6 8\n",
            "1 5 3 4 6 1 6 4\n",
            "5 3 4 6 2 3 3 1\n",
            "1 5 3 4 6 2\n"
          ]
        }
      ]
    },
    {
      "cell_type": "code",
      "source": [
        "#Problem - C\n",
        "import sys\n",
        "input=sys.stdin.readline\n",
        "n,m,s,d=map(int,input().split())\n",
        "u=list(map(int,input().split()))\n",
        "v=list(map(int,input().split()))\n",
        "l=[[] for _ in range(n+1)]\n",
        "k=[False]*(n+1)\n",
        "p=[0]*(n+1)\n",
        "for a,b in zip(u,v):\n",
        "    l[a].append(b)\n",
        "    l[b].append(a)\n",
        "for i in range(1,n+1):\n",
        "    l[i].sort()\n",
        "if s==d:\n",
        "  print(0)\n",
        "  print(s)\n",
        "  sys.exit()\n",
        "q=[s]\n",
        "k[s]=True\n",
        "h=0\n",
        "while h<len(q):\n",
        "  x=q[h]\n",
        "  h+=1\n",
        "  if x==d:\n",
        "    break\n",
        "  for y in l[x]:\n",
        "    if not k[y]:\n",
        "      k[y]=True\n",
        "      p[y]=x\n",
        "      q.append(y)\n",
        "if not k[d]:\n",
        "    print(-1)\n",
        "    sys.exit()\n",
        "r=[]\n",
        "while d:\n",
        "  r.append(d)\n",
        "  if d==s:\n",
        "    break\n",
        "  d=p[d]\n",
        "r.reverse()\n",
        "print(len(r)-1)\n",
        "print(*r)"
      ],
      "metadata": {
        "colab": {
          "base_uri": "https://localhost:8080/"
        },
        "id": "A422pELBJDq5",
        "outputId": "c0b9d40a-fd85-405f-c882-30dcf2d8d4dd"
      },
      "execution_count": null,
      "outputs": [
        {
          "output_type": "stream",
          "name": "stdout",
          "text": [
            "[3]\n",
            "[3, 4]\n",
            "[4, 1]\n",
            "[5]\n",
            "3\n",
            "2 3 1 5\n"
          ]
        }
      ]
    },
    {
      "cell_type": "code",
      "source": [
        "#Problem - D\n",
        "n,m,s,d,k=map(int,input().split())\n",
        "l=[[] for _ in range(n+1)]\n",
        "for _ in range(m):\n",
        "  u,v=map(int,input().split())\n",
        "  l[u].append(v)\n",
        "r=[]\n",
        "def bfs(st,ed):\n",
        "  q=[st]\n",
        "  p=[None]*(n+1)\n",
        "  t=[False]*(n+1)\n",
        "  t[st]=True\n",
        "  while q:\n",
        "    b = q.pop(0)\n",
        "    if b == ed:\n",
        "      path = []\n",
        "      c = ed\n",
        "      while c is not None:\n",
        "        path.insert(0, str(c))\n",
        "        c = p[c]\n",
        "      if not r:\n",
        "        r[:] = path\n",
        "      else:\n",
        "        r.extend(path[1:])\n",
        "      return True\n",
        "    for a in l[b]:\n",
        "      if not t[a]:\n",
        "        t[a]=True\n",
        "        q.append(a)\n",
        "        p[a]=b\n",
        "f1=bfs(s,k)\n",
        "if f1:\n",
        "  f2=bfs(k,d)\n",
        "  if f2:\n",
        "    print(len(r)-1)\n",
        "    print(' '.join(r))\n",
        "  else:\n",
        "    print(-1)\n",
        "else:\n",
        "  print(-1)"
      ],
      "metadata": {
        "colab": {
          "base_uri": "https://localhost:8080/"
        },
        "id": "JTdUtNQDmH54",
        "outputId": "9e30a14a-9cab-46b3-f06b-e615223bd655"
      },
      "execution_count": null,
      "outputs": [
        {
          "output_type": "stream",
          "name": "stdout",
          "text": [
            "['5']\n",
            "['5', '1', '3']\n",
            "2\n",
            "5 1 3\n"
          ]
        }
      ]
    },
    {
      "cell_type": "code",
      "source": [
        "#Problem - E\n",
        "import sys\n",
        "input=sys.stdin.readline\n",
        "n,m=map(int, input().split())\n",
        "l=[[] for _ in range(n+1)]\n",
        "ind=[0]*(n+1)\n",
        "for _ in range(m):\n",
        "  u,v=map(int,input().split())\n",
        "  l[u].append(v)\n",
        "  ind[v]+=1\n",
        "q=[i for i in range(1,n+1)if ind[i]==0]\n",
        "h=0\n",
        "while h<len(q):\n",
        "  u=q[h]\n",
        "  h+=1\n",
        "  for w in l[u]:\n",
        "    ind[w]-=1\n",
        "    if ind[w]==0:\n",
        "      q.append(w)\n",
        "print(\"YES\"if h<n else\"NO\")"
      ],
      "metadata": {
        "id": "GpPsxhnJDnDs"
      },
      "execution_count": null,
      "outputs": []
    },
    {
      "cell_type": "code",
      "source": [
        "#Problem - F\n",
        "import sys\n",
        "def dfs(mtx,v,i,j,r,h):\n",
        "    s=[(i,j)]\n",
        "    dd=0\n",
        "    while s:\n",
        "      x,y=s.pop()\n",
        "      if x<0 or x>=r or y<0 or y>=h or mtx[x][y]=='#'or v[x][y]:\n",
        "        continue\n",
        "      v[x][y]=True\n",
        "      dd+=1 if mtx[x][y]=='D'else 0\n",
        "      for dx,dy in [(-1,0),(1,0),(0,-1),(0,1)]:\n",
        "        s.append((x+dx,y+dy))\n",
        "    return dd\n",
        "r,h=map(int,input().split())\n",
        "mtx= [list(input().strip()) for _ in range(r)]\n",
        "v=[[False]*h for _ in range(r)]\n",
        "md=0\n",
        "for i in range(r):\n",
        "  for j in range(h):\n",
        "    if mtx[i][j]!='#'and not v[i][j]:\n",
        "      md=max(md,dfs(mtx,v,i,j,r,h))\n",
        "print(md)"
      ],
      "metadata": {
        "id": "FgLQqcHglf3O"
      },
      "execution_count": null,
      "outputs": []
    }
  ]
}